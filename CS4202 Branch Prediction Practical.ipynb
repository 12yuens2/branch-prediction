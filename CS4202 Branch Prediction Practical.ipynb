{
 "cells": [
  {
   "cell_type": "markdown",
   "metadata": {},
   "source": [
    "# Introduction\n",
    "Branches in CPU instructions are often a major reason for performance hits as work done in parts of the CPU pipeline has to be discarded and the next target instruction address has to be calculated and fetched. As modern pipelines get more complicated, the slow down caused by branches increases. There are many different ways to lessen the impact of branching, such as a branch delay slot, multiple instruction streams and branch prediction. \n",
    "\n",
    "In this practical, we focus on different branch prediction strategies by writing a branch predictor simulator to simulate the strategies over a series of execution traces from benchmark programs and calculate the misprediction rates. The results are then presented and analysed. The following branch prediction strategies were simulated and analysed:\n",
    "- Always taken\n",
    "- Always not taken\n",
    "- 2-bit predictor\n",
    "- Correlating predictor\n",
    "- Gshare\n",
    "- Profiled approach\n",
    "\n",
    "# Design \n",
    "\n",
    "## Benchmark programs\n",
    "\n",
    "## Simulator implementation\n",
    "Here we have some classes to provide helpful abstractions over the branches and execution trace."
   ]
  },
  {
   "cell_type": "code",
   "execution_count": 1,
   "metadata": {
    "collapsed": true
   },
   "outputs": [],
   "source": [
    "from enum import Enum\n",
    "\n",
    "class Branch(Enum):\n",
    "    NOT_TAKEN = 0\n",
    "    TAKEN = 1"
   ]
  },
  {
   "cell_type": "markdown",
   "metadata": {},
   "source": [
    "The `Branch` enum represents whether the branch was taken or not. An enum is used instead of 0 and 1 to make it clear and avoid mistakes and errors.\n"
   ]
  },
  {
   "cell_type": "code",
   "execution_count": 2,
   "metadata": {
    "collapsed": true
   },
   "outputs": [],
   "source": [
    "class Step:\n",
    "    def __init__(self, address, branch):\n",
    "        self.address = address\n",
    "        self.branch = branch"
   ]
  },
  {
   "cell_type": "markdown",
   "metadata": {
    "collapsed": true
   },
   "source": [
    "`Step` contains the address of the instruction as well as whether or not that branch was taken - stored in `self.branch`. This is the representation of each step of the execution trace."
   ]
  },
  {
   "cell_type": "code",
   "execution_count": 3,
   "metadata": {
    "collapsed": true
   },
   "outputs": [],
   "source": [
    "from abc import ABC, abstractmethod\n",
    "\n",
    "class Predictor(ABC):\n",
    "    def __init__(self):\n",
    "        pass\n",
    "    \n",
    "    @abstractmethod\n",
    "    def predict_correct(self, step):\n",
    "        pass\n",
    "    \n",
    "    def translate_address(self, address, table_bits):\n",
    "        mask = 2 ** table_bits - 1\n",
    "        return int(address) & mask\n",
    "    \n",
    "    def simulate(self, execution):\n",
    "        correct_prediction_count = 0\n",
    "\n",
    "        for step in execution:\n",
    "            if self.predict_correct(step):\n",
    "                correct_prediction_count += 1\n",
    "\n",
    "        return correct_prediction_count / len(execution) * 100"
   ]
  },
  {
   "cell_type": "markdown",
   "metadata": {},
   "source": [
    "The `Predictor` is the abstract class that our branch prediction strategies will extend. There are a few common functions defined here:\n",
    "- `predict_correct` function will take a step in the execution and return whether or not the predictor predicted correctly. The function also updates the predictor's strategy accordingly, for example changing the bits in the two bit predictor\n",
    "- `translate_address` applies a mask to the given address to get the bottom portion of the address within the table size.\n",
    "- `simulate` will take the entire execution trace and return the percentage of correct branches that the predictor predicted.\n",
    "\n",
    "\n",
    "## Branch prediction strategies\n",
    "\n",
    "### Always taken and Always not taken\n",
    "\n",
    "Always taken and always not taken are the simplest strategies and do as their names suggest."
   ]
  },
  {
   "cell_type": "code",
   "execution_count": 4,
   "metadata": {
    "collapsed": true
   },
   "outputs": [],
   "source": [
    "class AlwaysTakenPredictor(Predictor):\n",
    "    def __init__(self):\n",
    "        self.prediction = Branch.TAKEN\n",
    "        \n",
    "    def predict_correct(self, step):\n",
    "        return self.prediction == step.branch"
   ]
  },
  {
   "cell_type": "code",
   "execution_count": 5,
   "metadata": {
    "collapsed": true
   },
   "outputs": [],
   "source": [
    "class AlwaysNotTakenPredictor(Predictor):\n",
    "    def __init__(self):\n",
    "        self.prediction = Branch.NOT_TAKEN\n",
    "        \n",
    "    def predict_correct(self, step):\n",
    "        return self.prediction == step.branch"
   ]
  },
  {
   "cell_type": "markdown",
   "metadata": {},
   "source": [
    "### Two-bit predictor\n",
    "\n",
    "The two-bit predictor uses two bits as history bits. The prediction is based off the most significant bit of the counter. The history serves as an indicator as to the recent behaviour of the branch (i.e, if the branch was taken the last few times, it will likely be taken again so predict that it is taken). "
   ]
  },
  {
   "cell_type": "markdown",
   "metadata": {},
   "source": [
    "![Two-bit predictor](imgs/TwoBitPredictor.jpg)"
   ]
  },
  {
   "cell_type": "markdown",
   "metadata": {},
   "source": [
    "The two-bit predictor includes a branch history table for addresses to index into to take into account the local history of each branch."
   ]
  },
  {
   "cell_type": "code",
   "execution_count": 1,
   "metadata": {
    "collapsed": true
   },
   "outputs": [],
   "source": [
    "class TwoBitCounter():\n",
    "    def __init__(self):\n",
    "        self.prediction = Branch.NOT_TAKEN\n",
    "        self.history_bits = (0, 0)\n",
    "        \n",
    "    def update(self, prediction_correct):\n",
    "        self.update_bits(prediction_correct)\n",
    "        \n",
    "        if self.history_bits[0]:\n",
    "            self.prediction = Branch.TAKEN\n",
    "        else:\n",
    "            self.prediction = Branch.NOT_TAKEN\n",
    "            \n",
    "    def update_bits(self, prediction_correct):\n",
    "        prediction_value = self.prediction.value\n",
    "        \n",
    "        if (prediction_correct):\n",
    "            self.history_bits = (prediction_value, prediction_value)\n",
    "        else:\n",
    "            last_bit = self.history_bits[1]\n",
    "            self.history_bits = (last_bit, int(not prediction_value))"
   ]
  },
  {
   "cell_type": "markdown",
   "metadata": {},
   "source": [
    "`TwoBitCounter` is the saturating counter that keeps track of the history of the branch. An important point to notice is that by default, the prediction is set to `Branch.NOT_TAKEN`. This is done deliberately because of the additional cost of computing the branch target address. It is less costly to continue the next instruction in sequence rather than assume and calculate the address of the taken branch."
   ]
  },
  {
   "cell_type": "code",
   "execution_count": 7,
   "metadata": {
    "collapsed": true
   },
   "outputs": [],
   "source": [
    "class TwoBitPredictor(Predictor):\n",
    "    def __init__(self, table_bits):\n",
    "        # Create a TwoBitCounter for each entry in the table\n",
    "        counters = enumerate([TwoBitCounter() for i in range(2 ** table_bits)])\n",
    "        self.table = {address: counter for (address, counter) in counters}\n",
    "        self.table_bits = table_bits\n",
    "        \n",
    "    def predict_correct(self, step):\n",
    "        address = self.translate_address(step.address, self.table_bits)\n",
    "        counter = self.table[address]\n",
    "        prediction = counter.prediction\n",
    "        \n",
    "        prediction_correct = prediction == step.branch\n",
    "        counter.update(prediction_correct)\n",
    "        \n",
    "        return prediction_correct"
   ]
  },
  {
   "cell_type": "markdown",
   "metadata": {},
   "source": [
    "The `TwoBitPredictor` fetches the corresponding counter from its predictor table for its prediction and then updates the counter afterwards.\n",
    "\n",
    "### Correlating predictor\n",
    "\n",
    "The correlating predictor lets us have multiple two-bit counters per branch. A shift register will tell the predictor which counter to choose for each branch. This strategy takes into account the global history - the shift register - rather than just the local history of each branch."
   ]
  },
  {
   "cell_type": "code",
   "execution_count": 8,
   "metadata": {
    "collapsed": true
   },
   "outputs": [],
   "source": [
    "class CorrelatingCounter():\n",
    "    def __init__(self, register_bits):\n",
    "        self.two_bit_counters = [TwoBitCounter() for i in range(2 ** register_bits)]\n",
    "\n",
    "    def prediction(self, shift_register):\n",
    "        counter = self.two_bit_counters[shift_register]\n",
    "        return counter.prediction\n",
    "    \n",
    "    def update(self, prediction_correct, shift_register):\n",
    "        counter = self.two_bit_counters[shift_register]\n",
    "        counter.update(prediction_correct)"
   ]
  },
  {
   "cell_type": "markdown",
   "metadata": {},
   "source": [
    "The `CorrelatingCounter` must have 2<sup>n</sup> `TwoBitCounter`s where n is the number of bits in the shift register. To get a prediction, the shift register must be passed so we can fetch the corresponding two-bit counter in the list. "
   ]
  },
  {
   "cell_type": "code",
   "execution_count": 9,
   "metadata": {
    "collapsed": true
   },
   "outputs": [],
   "source": [
    "class CorrelatingPredictor(Predictor):\n",
    "    def __init__(self, table_bits, register_bits):\n",
    "        \n",
    "        # Create a CorrelatingCounter for each entry in the table\n",
    "        inner_predictors = enumerate([CorrelatingCounter(register_bits) for i in range(2 ** table_bits)])\n",
    "        self.table = {address: ip for (address, ip) in inner_predictors}\n",
    "        self.table_bits = table_bits\n",
    "        \n",
    "        # Initialise shift register\n",
    "        self.shift_register = 0b0\n",
    "        self.register_bits = register_bits\n",
    "    \n",
    "    def predict_correct(self, step):\n",
    "        address = self.translate_address(step.address, self.table_bits)\n",
    "        inner_predictor = self.table[address]\n",
    "        prediction = inner_predictor.prediction(self.shift_register)\n",
    "        \n",
    "        prediction_correct = prediction == step.branch\n",
    "        inner_predictor.update(prediction_correct, self.shift_register)\n",
    "        \n",
    "        self.update_register(step.branch == Branch.TAKEN)\n",
    "        \n",
    "        return prediction_correct\n",
    "        \n",
    "    def update_register(self, branch_taken):\n",
    "        self.shift_register = self.shift_register >> 1\n",
    "        \n",
    "        if (branch_taken):\n",
    "            self.shift_register |= 1 << (self.register_bits - 1)"
   ]
  },
  {
   "cell_type": "markdown",
   "metadata": {},
   "source": [
    "The shift register represents the global history of the previous *n* branches where *n* is the number of bits in the shift register. The register is updated by bit shifting 1 to the right after every step. Then, if the branch was taken, add a 1 to the n<sup>th</sup> bit. We don't have to do anything if the branch is not taken as it is the same as adding a 0.\n",
    "\n",
    "### Gshare\n",
    "\n",
    "The Gshare predictor indexes by XORing the address and the shift register to index into the predictor table."
   ]
  },
  {
   "cell_type": "code",
   "execution_count": 35,
   "metadata": {
    "collapsed": true
   },
   "outputs": [],
   "source": [
    "class GsharePredictor(Predictor):\n",
    "    def __init__(self, table_bits, register_bits):\n",
    "        \n",
    "        # Create a TwoBitCounter for each entry in the table\n",
    "        counters = enumerate([TwoBitCounter() for i in range(2 ** table_bits)])\n",
    "        self.table = {address: counter for (address, counter) in counters}\n",
    "        print(len(self.table))\n",
    "        self.table_bits = table_bits\n",
    "        \n",
    "        # Initialise shift register\n",
    "        self.shift_register = 0b0\n",
    "        self.register_bits = register_bits\n",
    "        \n",
    "    def predict_correct(self, step):\n",
    "        address = self.translate_address(step.address, self.table_bits)\n",
    "        counter = self.get_inner_predictor(address)\n",
    "        prediction = counter.prediction\n",
    "        \n",
    "        prediction_correct = prediction == step.branch\n",
    "        counter.update(prediction_correct)\n",
    "        \n",
    "        self.update_register(step.branch == Branch.TAKEN)\n",
    "        \n",
    "        return prediction_correct\n",
    "    \n",
    "    def get_inner_predictor(self, address):\n",
    "        index = address ^ self.shift_register\n",
    "        return self.table[index]\n",
    "        \n",
    "    def update_register(self, branch_taken):\n",
    "        self.shift_register = self.shift_register >> 1\n",
    "\n",
    "        if (branch_taken):\n",
    "            self.shift_register |= 1 << (self.register_bits - 1)"
   ]
  },
  {
   "cell_type": "code",
   "execution_count": null,
   "metadata": {
    "collapsed": true
   },
   "outputs": [],
   "source": []
  },
  {
   "cell_type": "code",
   "execution_count": null,
   "metadata": {
    "collapsed": true
   },
   "outputs": [],
   "source": []
  },
  {
   "cell_type": "markdown",
   "metadata": {},
   "source": [
    "## Profiled approach <a id='profiled_approach'></a>"
   ]
  },
  {
   "cell_type": "code",
   "execution_count": null,
   "metadata": {
    "collapsed": true
   },
   "outputs": [],
   "source": []
  },
  {
   "cell_type": "code",
   "execution_count": null,
   "metadata": {
    "collapsed": true
   },
   "outputs": [],
   "source": []
  },
  {
   "cell_type": "markdown",
   "metadata": {},
   "source": [
    "# Experiments\n",
    "\n",
    "To start testing and experimenting with the branch trace files, we need to parse the file into a list of `Step`s."
   ]
  },
  {
   "cell_type": "code",
   "execution_count": 37,
   "metadata": {
    "collapsed": true
   },
   "outputs": [],
   "source": [
    "def createStep(address, taken_bit):\n",
    "    if (taken_bit == '1'):\n",
    "        return Step(address, Branch.TAKEN)\n",
    "    else:\n",
    "        return Step(address, Branch.NOT_TAKEN)\n",
    "\n",
    "def parseTrace(file):\n",
    "    lines = file.read().splitlines()\n",
    "    steps = [line.split(\" \") for line in lines]\n",
    "        \n",
    "    execution = [createStep(step[0], step[1]) for step in steps]\n",
    "    return execution"
   ]
  },
  {
   "cell_type": "markdown",
   "metadata": {},
   "source": [
    "`parseTrace` will return the execution trace as a list of steps that we can pass to our predictors. We can see how this works below:"
   ]
  },
  {
   "cell_type": "code",
   "execution_count": 38,
   "metadata": {
    "collapsed": true
   },
   "outputs": [],
   "source": [
    "always_taken = AlwaysTakenPredictor()\n",
    "always_not_taken = AlwaysNotTakenPredictor()\n",
    "\n",
    "testfile = open(\"echohello.out\", \"r\")\n",
    "execution = parseTrace(testfile)"
   ]
  },
  {
   "cell_type": "code",
   "execution_count": 43,
   "metadata": {
    "collapsed": false
   },
   "outputs": [
    {
     "name": "stdout",
     "output_type": "stream",
     "text": [
      "Always taken: 51.27696148651414\n",
      "Always not taken: 48.72303851348586\n"
     ]
    }
   ],
   "source": [
    "taken_percentage = always_taken.simulate(execution)\n",
    "not_taken_percentage = always_not_taken.simulate(execution)\n",
    "\n",
    "print(\"Always taken: \" + str(taken_percentage))\n",
    "print(\"Always not taken: \" + str(not_taken_percentage))"
   ]
  },
  {
   "cell_type": "markdown",
   "metadata": {},
   "source": [
    "We can also see the sum of the two percentages is 100, which confirms that both our predictors and parsing of the trace file works."
   ]
  },
  {
   "cell_type": "code",
   "execution_count": 44,
   "metadata": {
    "collapsed": false
   },
   "outputs": [
    {
     "name": "stdout",
     "output_type": "stream",
     "text": [
      "100.0\n"
     ]
    }
   ],
   "source": [
    "print(taken_percentage + not_taken_percentage)"
   ]
  },
  {
   "cell_type": "markdown",
   "metadata": {
    "collapsed": true
   },
   "source": []
  },
  {
   "cell_type": "code",
   "execution_count": null,
   "metadata": {
    "collapsed": true
   },
   "outputs": [],
   "source": []
  },
  {
   "cell_type": "markdown",
   "metadata": {
    "collapsed": true
   },
   "source": [
    "# References\n",
    "- http://web.cs.ucdavis.edu/~su/Berkeley/cs252/project.html\n",
    "- https://www2.eecs.berkeley.edu/Pubs/TechRpts/1983/CSD-83-121.pdf\n",
    "- http://web.engr.oregonstate.edu/~benl/Projects/branch_pred/\n",
    "- http://www.hpl.hp.com/techreports/Compaq-DEC/WRL-TN-36.pdf\n"
   ]
  }
 ],
 "metadata": {
  "kernelspec": {
   "display_name": "Python 3",
   "language": "python",
   "name": "python3"
  },
  "language_info": {
   "codemirror_mode": {
    "name": "ipython",
    "version": 3
   },
   "file_extension": ".py",
   "mimetype": "text/x-python",
   "name": "python",
   "nbconvert_exporter": "python",
   "pygments_lexer": "ipython3",
   "version": "3.5.4"
  }
 },
 "nbformat": 4,
 "nbformat_minor": 1
}
