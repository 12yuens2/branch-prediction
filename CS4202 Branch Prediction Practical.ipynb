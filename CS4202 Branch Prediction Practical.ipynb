{
 "cells": [
  {
   "cell_type": "markdown",
   "metadata": {},
   "source": [
    "# Introduction\n",
    "Branches in CPU instructions are often a major reason for performance hits as work done in parts of the CPU pipeline has to be discarded and the target instruction address of the branch has to be calculated and fetched. As modern pipelines get more complicated, the slow down caused by branches increases. There are many different ways to lessen the impact of branching, such as a branch delay slot, multiple instruction streams and branch prediction. \n",
    "\n",
    "In this practical, we focus on different branch prediction strategies by writing a branch predictor simulator to simulate the strategies over a series of execution traces from benchmark programs and calculate the misprediction rates. The results are then presented and analysed to understand the effectiveness of different strategies on different types of programs. \n",
    "\n",
    "The following branch prediction strategies were simulated and analysed:\n",
    "- Always taken\n",
    "- Always not taken\n",
    "- 2-bit predictor\n",
    "- Correlating predictor\n",
    "- Gshare\n",
    "- Profiled approach\n",
    "\n",
    "# Design \n",
    "\n",
    "## Benchmark programs\n",
    "It is important to have a set of benchmarks with varied behaviour to understand the differences in the differnt branch prediction strategies. I have chosen seven benchmarks to try and get varied behaviour. Three of the benchmarks are from [SciMark2.0](http://math.nist.gov/scimark2/index.html) which are numeric and scientific calculations. The other benchmarks were written by myself to try and get different behaviours. The SciMark benchmarks are more complicated with many operations while mine are simple and more isolated in the kind of operations being done. This gives a variance between complex programs to understand how well each prediction strategy performs in general and the simple programs to isolate specific behaviour. All benchmark programs are written in C. Below is an overview of each benchmark:\n",
    "\n",
    "| Benchmark | Description | Input |\n",
    "|------|------|------|\n",
    "|   FFT  | Taken from SciMark, this benchmark performs a one-dimensional forward transform of N complex numbers with complex arithmetic, shuffling, non-constant memory references and trigonometric functions. | N complex numbers (must be a power of 2) and M cycles.|\n",
    "| MonteCarlo | Taken from SciMark, this benchmark approximates the value of Pi with random numbers which adds an element of random number generation | N the number of random numbers to be used|\n",
    "| SOR | Taken from SciMark, this benchmark works on an NxN grid with operations on looping through and accessing neighbours | N the size of the grid and M cycles |\n",
    "| Loop | This is a very simple benchmarks which only prints \"Hello\" N times. | N number of times to print |\n",
    "| LoopCondition | This benchmark goes through a recursive function with conditionals where the value passed is changed until it reaches the base case | I an integer value to be used |\n",
    "| BubbleSort | This is the classic bubble sort algorithm. It is methodic in the way it loops through the array to sort it, but as the array is randomly generated, the conditional will vary. | N the size of the array |\n",
    "\n",
    "## Simulator implementation\n",
    "Here we give a brief overview of the implementation of the simulator."
   ]
  },
  {
   "cell_type": "code",
   "execution_count": 2,
   "metadata": {
    "collapsed": true
   },
   "outputs": [],
   "source": [
    "from enum import Enum\n",
    "\n",
    "class Branch(Enum):\n",
    "    NOT_TAKEN = 0\n",
    "    TAKEN = 1"
   ]
  },
  {
   "cell_type": "markdown",
   "metadata": {},
   "source": [
    "The `Branch` enum represents whether the branch was taken or not. An enum is used instead of 0 and 1 to make it clear and avoid mistakes and errors.\n"
   ]
  },
  {
   "cell_type": "code",
   "execution_count": 3,
   "metadata": {
    "collapsed": true
   },
   "outputs": [],
   "source": [
    "class Step:\n",
    "    def __init__(self, address, branch):\n",
    "        self.address = address\n",
    "        self.branch = branch"
   ]
  },
  {
   "cell_type": "markdown",
   "metadata": {
    "collapsed": true
   },
   "source": [
    "`Step` contains the address of the instruction and whether or not that branch was taken - stored in `self.address` and `self.branch` respectively. This is the representation of each step of the execution trace."
   ]
  },
  {
   "cell_type": "code",
   "execution_count": 4,
   "metadata": {
    "collapsed": true
   },
   "outputs": [],
   "source": [
    "from abc import ABC, abstractmethod\n",
    "\n",
    "class Predictor(ABC):\n",
    "    def __init__(self):\n",
    "        pass\n",
    "    \n",
    "    @abstractmethod\n",
    "    def predict_correct(self, step):\n",
    "        pass\n",
    "    \n",
    "    def translate_address(self, address, table_bits):\n",
    "        mask = 2 ** table_bits - 1\n",
    "        return int(address) & mask\n",
    "    \n",
    "    def simulate(self, execution):\n",
    "        correct_prediction_count = 0\n",
    "\n",
    "        for step in execution:\n",
    "            if self.predict_correct(step):\n",
    "                correct_prediction_count += 1\n",
    "\n",
    "        return correct_prediction_count / len(execution) * 100"
   ]
  },
  {
   "cell_type": "markdown",
   "metadata": {},
   "source": [
    "The `Predictor` is the abstract class that our branch prediction strategies will extend. There are a few common functions defined here:\n",
    "- `predict_correct` function will take a step in the execution and return whether or not the predictor predicted correctly. The function also updates the predictor's strategy accordingly, for example updating the history bits.\n",
    "- `translate_address` applies a mask to the given address to get the bottom portion of the address within the table size.\n",
    "- `simulate` will take the entire execution trace and return the percentage of correct branches that the predictor predicted.\n",
    "\n",
    "\n",
    "## Branch prediction strategies\n",
    "\n",
    "### Always taken and Always not taken\n",
    "\n",
    "Always taken and always not taken are the simplest strategies and do as their names suggest. No logic is required as they simply return the same prediction every time."
   ]
  },
  {
   "cell_type": "code",
   "execution_count": 5,
   "metadata": {
    "collapsed": true
   },
   "outputs": [],
   "source": [
    "class AlwaysTakenPredictor(Predictor):\n",
    "    def __init__(self):\n",
    "        self.prediction = Branch.TAKEN\n",
    "        \n",
    "    def predict_correct(self, step):\n",
    "        return self.prediction == step.branch"
   ]
  },
  {
   "cell_type": "code",
   "execution_count": 6,
   "metadata": {
    "collapsed": true
   },
   "outputs": [],
   "source": [
    "class AlwaysNotTakenPredictor(Predictor):\n",
    "    def __init__(self):\n",
    "        self.prediction = Branch.NOT_TAKEN\n",
    "        \n",
    "    def predict_correct(self, step):\n",
    "        return self.prediction == step.branch"
   ]
  },
  {
   "cell_type": "markdown",
   "metadata": {},
   "source": [
    "### Two-bit predictor\n",
    "\n",
    "The two-bit predictor uses two bits as history bits. The prediction is based off the most significant bit of the counter. The history serves as an indicator as to the recent behaviour of the branch (i.e, if the branch was taken the last few times, it will likely be taken again so predict that it is taken). "
   ]
  },
  {
   "cell_type": "markdown",
   "metadata": {},
   "source": [
    "![Two-bit predictor](imgs/TwoBitPredictor.jpg)"
   ]
  },
  {
   "cell_type": "markdown",
   "metadata": {},
   "source": [
    "The two-bit predictor includes a branch history table for addresses to index into to take into account the local history of each branch. The lower bits of the branch address is chosen as an index rather than the higher bits because they are more likely to be different and therefore less likely to collide."
   ]
  },
  {
   "cell_type": "code",
   "execution_count": 7,
   "metadata": {
    "collapsed": true
   },
   "outputs": [],
   "source": [
    "class TwoBitCounter():\n",
    "    def __init__(self):\n",
    "        self.prediction = Branch.NOT_TAKEN\n",
    "        self.history_bits = (0, 0)\n",
    "        \n",
    "    def update(self, prediction_correct):\n",
    "        self.update_bits(prediction_correct)\n",
    "        \n",
    "        if self.history_bits[0]:\n",
    "            self.prediction = Branch.TAKEN\n",
    "        else:\n",
    "            self.prediction = Branch.NOT_TAKEN\n",
    "            \n",
    "    def update_bits(self, prediction_correct):\n",
    "        prediction_value = self.prediction.value\n",
    "        \n",
    "        if (prediction_correct):\n",
    "            self.history_bits = (prediction_value, prediction_value)\n",
    "        else:\n",
    "            last_bit = self.history_bits[1]\n",
    "            self.history_bits = (last_bit, int(not prediction_value))"
   ]
  },
  {
   "cell_type": "markdown",
   "metadata": {},
   "source": [
    "`TwoBitCounter` is the saturating counter that keeps track of the recent behaviour of the branch. To change a prediction, two consecutive misses have to be recorded. An important point to notice is that by default, the prediction is set to `Branch.NOT_TAKEN`. This is done deliberately because of the additional cost of computing the branch target address. It is less costly to continue the next instruction in sequence rather than assume and calculate the address of the taken branch."
   ]
  },
  {
   "cell_type": "code",
   "execution_count": 8,
   "metadata": {
    "collapsed": true
   },
   "outputs": [],
   "source": [
    "class TwoBitPredictor(Predictor):\n",
    "    def __init__(self, table_bits):\n",
    "        # Create a TwoBitCounter for each entry in the table\n",
    "        counters = enumerate([TwoBitCounter() for i in range(2 ** table_bits)])\n",
    "        self.table = {address: counter for (address, counter) in counters}\n",
    "        self.table_bits = table_bits\n",
    "        \n",
    "    def predict_correct(self, step):\n",
    "        address = self.translate_address(step.address, self.table_bits)\n",
    "        counter = self.table[address]\n",
    "        prediction = counter.prediction\n",
    "        \n",
    "        prediction_correct = prediction == step.branch\n",
    "        counter.update(prediction_correct)\n",
    "        \n",
    "        return prediction_correct"
   ]
  },
  {
   "cell_type": "markdown",
   "metadata": {},
   "source": [
    "The `TwoBitPredictor` fetches the corresponding two bit counter from its predictor table by indexing with the branch address. It can then predict based on the counter and update the counter afterwards with the actual direction the branch took.\n",
    "\n",
    "### Correlating predictor\n",
    "\n",
    "The correlating predictor lets us have multiple two-bit counters per branch. A history shift register will tell the predictor which counter to choose for each branch. This strategy takes into account the global history - the shift register - rather than just the local history of each branch. Depending on the global history of the shift register, it indexes to different two-bit counters on the same branch. This approach also lowers the chance of two addresses overwriting each other's counters when they collide. This is because the two addresses would have had to have the same global history to overwrite the same saturating counter."
   ]
  },
  {
   "cell_type": "code",
   "execution_count": 9,
   "metadata": {
    "collapsed": true
   },
   "outputs": [],
   "source": [
    "class CorrelatingCounter():\n",
    "    def __init__(self, register_bits):\n",
    "        self.two_bit_counters = [TwoBitCounter() for i in range(2 ** register_bits)]\n",
    "\n",
    "    def prediction(self, shift_register):\n",
    "        counter = self.two_bit_counters[shift_register]\n",
    "        return counter.prediction\n",
    "    \n",
    "    def update(self, prediction_correct, shift_register):\n",
    "        counter = self.two_bit_counters[shift_register]\n",
    "        counter.update(prediction_correct)"
   ]
  },
  {
   "cell_type": "markdown",
   "metadata": {},
   "source": [
    "The `CorrelatingCounter` must have 2<sup>n</sup> `TwoBitCounter`s where *n* is the number of bits in the shift register. To get a prediction, the shift register must be passed so we can fetch the corresponding two-bit counter in the list. "
   ]
  },
  {
   "cell_type": "code",
   "execution_count": 10,
   "metadata": {
    "collapsed": true
   },
   "outputs": [],
   "source": [
    "class CorrelatingPredictor(Predictor):\n",
    "    def __init__(self, table_bits, register_bits):\n",
    "        \n",
    "        # Create a CorrelatingCounter for each entry in the table\n",
    "        inner_predictors = enumerate([CorrelatingCounter(register_bits) for i in range(2 ** table_bits)])\n",
    "        self.table = {address: ip for (address, ip) in inner_predictors}\n",
    "        self.table_bits = table_bits\n",
    "        \n",
    "        # Initialise shift register\n",
    "        self.shift_register = 0b0\n",
    "        self.register_bits = register_bits\n",
    "    \n",
    "    def predict_correct(self, step):\n",
    "        address = self.translate_address(step.address, self.table_bits)\n",
    "        inner_predictor = self.table[address]\n",
    "        prediction = inner_predictor.prediction(self.shift_register)\n",
    "        \n",
    "        prediction_correct = prediction == step.branch\n",
    "        inner_predictor.update(prediction_correct, self.shift_register)\n",
    "        \n",
    "        self.update_register(step.branch == Branch.TAKEN)\n",
    "        \n",
    "        return prediction_correct\n",
    "        \n",
    "    def update_register(self, branch_taken):\n",
    "        self.shift_register = self.shift_register >> 1\n",
    "        \n",
    "        if (branch_taken):\n",
    "            self.shift_register |= 1 << (self.register_bits - 1)"
   ]
  },
  {
   "cell_type": "markdown",
   "metadata": {},
   "source": [
    "The shift register represents the global history of the previous *n* branches where *n* is the number of bits in the shift register. The register is updated by bit shifting 1 to the right after every step. Then, if the branch was taken, add a 1 to the n<sup>th</sup> bit.\n",
    "\n",
    "### Gshare\n",
    "\n",
    "The Gshare predictor indexes by XORing the address and the shift register to index into the predictor table. It is a strategy proposed by McFarling to hash the global history (shift register) and branch address to gain more information than either alone. This approach as the same advantage of using the global history as part of the index to a saturating counter like the correlating predictor, but uses much less space. The correlating predictor uses an additional 2<sup>*n*</sup> counters for *n* bits in the shift register which is not needed in the gshare scheme."
   ]
  },
  {
   "cell_type": "code",
   "execution_count": 11,
   "metadata": {
    "collapsed": true
   },
   "outputs": [],
   "source": [
    "class GsharePredictor(Predictor):\n",
    "    def __init__(self, table_bits, register_bits):\n",
    "        \n",
    "        # Create a TwoBitCounter for each entry in the table\n",
    "        counters = enumerate([TwoBitCounter() for i in range(2 ** table_bits)])\n",
    "        self.table = {address: counter for (address, counter) in counters}\n",
    "        self.table_bits = table_bits\n",
    "        \n",
    "        # Initialise shift register\n",
    "        self.shift_register = 0b0\n",
    "        self.register_bits = register_bits\n",
    "        \n",
    "    def predict_correct(self, step):\n",
    "        address = self.translate_address(step.address, self.table_bits)\n",
    "        counter = self.get_inner_predictor(address)\n",
    "        prediction = counter.prediction\n",
    "        \n",
    "        prediction_correct = prediction == step.branch\n",
    "        counter.update(prediction_correct)\n",
    "        \n",
    "        self.update_register(step.branch == Branch.TAKEN)\n",
    "        \n",
    "        return prediction_correct\n",
    "    \n",
    "    def get_inner_predictor(self, address):\n",
    "        index = address ^ self.shift_register\n",
    "        return self.table[index]\n",
    "        \n",
    "    def update_register(self, branch_taken):\n",
    "        self.shift_register = self.shift_register >> 1\n",
    "\n",
    "        if (branch_taken):\n",
    "            self.shift_register |= 1 << (self.register_bits - 1)"
   ]
  },
  {
   "cell_type": "code",
   "execution_count": null,
   "metadata": {
    "collapsed": true
   },
   "outputs": [],
   "source": []
  },
  {
   "cell_type": "code",
   "execution_count": null,
   "metadata": {
    "collapsed": true
   },
   "outputs": [],
   "source": []
  },
  {
   "cell_type": "markdown",
   "metadata": {},
   "source": [
    "## Profiled approach <a id='profiled_approach'></a>"
   ]
  },
  {
   "cell_type": "code",
   "execution_count": null,
   "metadata": {
    "collapsed": true
   },
   "outputs": [],
   "source": []
  },
  {
   "cell_type": "code",
   "execution_count": null,
   "metadata": {
    "collapsed": true
   },
   "outputs": [],
   "source": []
  },
  {
   "cell_type": "markdown",
   "metadata": {},
   "source": [
    "# Experiments\n",
    "\n",
    "To start testing and experimenting with the branch trace files, we need to parse the execution trace file into a list of `Step`."
   ]
  },
  {
   "cell_type": "code",
   "execution_count": 12,
   "metadata": {
    "collapsed": true
   },
   "outputs": [],
   "source": [
    "def createStep(address, taken_bit):\n",
    "    if (taken_bit == '1'):\n",
    "        return Step(address, Branch.TAKEN)\n",
    "    else:\n",
    "        return Step(address, Branch.NOT_TAKEN)\n",
    "\n",
    "def parseTrace(file):\n",
    "    lines = file.read().splitlines()\n",
    "    steps = [line.split(\" \") for line in lines]\n",
    "        \n",
    "    execution = [createStep(step[0], step[1]) for step in steps]\n",
    "    return execution"
   ]
  },
  {
   "cell_type": "markdown",
   "metadata": {},
   "source": [
    "`parseTrace` will return the execution trace as a list of steps that we can pass to our predictors. We can see how this works below:"
   ]
  },
  {
   "cell_type": "code",
   "execution_count": 43,
   "metadata": {
    "collapsed": false
   },
   "outputs": [],
   "source": [
    "always_taken = AlwaysTakenPredictor()\n",
    "always_not_taken = AlwaysNotTakenPredictor()\n",
    "\n",
    "trace_echo = parseTrace(open(\"traces/Echo.out\", \"r\"))\n",
    "trace_fft = parseTrace(open(\"traces/FFT256-10.out\", \"r\"))\n",
    "trace_sor = parseTrace(open(\"traces/SOR64-4.out\", \"r\"))\n",
    "trace_mc = parseTrace(open(\"traces/MonteCarlo1000.out\", \"r\"))\n",
    "trace_loop = parseTrace(open(\"traces/Loop100.out\", \"r\"))\n",
    "trace_cond = parseTrace(open(\"traces/LoopCondition.out\", \"r\"))\n",
    "trace_sort = parseTrace(open(\"traces/BubbleSort100.out\", \"r\"))\n",
    "\n",
    "#execution = parseTrace(trace_echo)"
   ]
  },
  {
   "cell_type": "code",
   "execution_count": 27,
   "metadata": {
    "collapsed": false
   },
   "outputs": [
    {
     "name": "stdout",
     "output_type": "stream",
     "text": [
      "Always taken: 51.15692396765989\n",
      "Always not taken: 48.84307603234011\n"
     ]
    }
   ],
   "source": [
    "taken_percentage = always_taken.simulate(execution)\n",
    "not_taken_percentage = always_not_taken.simulate(execution)\n",
    "\n",
    "print(\"Always taken: \" + str(taken_percentage))\n",
    "print(\"Always not taken: \" + str(not_taken_percentage))"
   ]
  },
  {
   "cell_type": "markdown",
   "metadata": {},
   "source": []
  },
  {
   "cell_type": "code",
   "execution_count": 58,
   "metadata": {
    "collapsed": false
   },
   "outputs": [],
   "source": [
    "twobits = [TwoBitPredictor(5), TwoBitPredictor(6), TwoBitPredictor(7), TwoBitPredictor(8), TwoBitPredictor(9), TwoBitPredictor(10), TwoBitPredictor(11), TwoBitPredictor(12)]\n",
    "twobits_echo = []\n",
    "twobits_fft = []\n",
    "twobits_sor = []\n",
    "twobits_mc = []\n",
    "twobits_loop = []\n",
    "twobits_cond = []\n",
    "twobits_sort = []\n",
    "\n",
    "for p in twobits:\n",
    "    twobits_echo.append((len(p.table), p.simulate(trace_echo)))\n",
    "    twobits_fft.append((len(p.table), p.simulate(trace_fft)))\n",
    "    twobits_sor.append((len(p.table), p.simulate(trace_sor)))\n",
    "    twobits_mc.append((len(p.table), p.simulate(trace_mc)))\n",
    "    twobits_loop.append((len(p.table), p.simulate(trace_loop)))\n",
    "    twobits_cond.append((len(p.table), p.simulate(trace_cond)))\n",
    "    twobits_sort.append((len(p.table), p.simulate(trace_sort)))\n"
   ]
  },
  {
   "cell_type": "markdown",
   "metadata": {
    "collapsed": true
   },
   "source": []
  },
  {
   "cell_type": "code",
   "execution_count": null,
   "metadata": {
    "collapsed": true
   },
   "outputs": [],
   "source": []
  },
  {
   "cell_type": "code",
   "execution_count": 62,
   "metadata": {
    "collapsed": true
   },
   "outputs": [],
   "source": [
    "correlators = [CorrelatingPredictor(5, 2), CorrelatingPredictor(6, 2), CorrelatingPredictor(7, 2), CorrelatingPredictor(8, 2), CorrelatingPredictor(9, 2), CorrelatingPredictor(10, 2), CorrelatingPredictor(11, 2), CorrelatingPredictor(12, 2)]\n",
    "c_echo = []\n",
    "c_fft = []\n",
    "c_sor = []\n",
    "c_mc = []\n",
    "c_loop = []\n",
    "c_cond = []\n",
    "c_sort = []\n",
    "\n",
    "for p in correlators:\n",
    "    c_echo.append((len(p.table), p.simulate(trace_echo)))\n",
    "    c_fft.append((len(p.table), p.simulate(trace_fft)))\n",
    "    c_sor.append((len(p.table), p.simulate(trace_sor)))\n",
    "    c_mc.append((len(p.table), p.simulate(trace_mc)))\n",
    "    c_loop.append((len(p.table), p.simulate(trace_loop)))\n",
    "    c_cond.append((len(p.table), p.simulate(trace_cond)))\n",
    "    c_sort.append((len(p.table), p.simulate(trace_sort)))\n",
    "    "
   ]
  },
  {
   "cell_type": "code",
   "execution_count": null,
   "metadata": {
    "collapsed": true
   },
   "outputs": [],
   "source": [
    "gshares = [GsharePredictor(9, 2), GsharePredictor(10, 2), GsharePredictor(11, 2), GsharePredictor(12, 2)]\n",
    "g_data = []\n",
    "for p in gshares:\n",
    "    g_data.append((len(p.table), p.simulate(execution)))"
   ]
  },
  {
   "cell_type": "code",
   "execution_count": null,
   "metadata": {
    "collapsed": true
   },
   "outputs": [],
   "source": []
  },
  {
   "cell_type": "code",
   "execution_count": null,
   "metadata": {
    "collapsed": true
   },
   "outputs": [],
   "source": []
  },
  {
   "cell_type": "code",
   "execution_count": null,
   "metadata": {
    "collapsed": true
   },
   "outputs": [],
   "source": [
    "class plot_data():\n",
    "    def __init__(self, data, label):\n",
    "        self.data = data\n",
    "        self.label = label"
   ]
  },
  {
   "cell_type": "code",
   "execution_count": null,
   "metadata": {
    "collapsed": true
   },
   "outputs": [],
   "source": []
  },
  {
   "cell_type": "code",
   "execution_count": 68,
   "metadata": {
    "collapsed": false
   },
   "outputs": [],
   "source": [
    "from matplotlib import pyplot as plt\n",
    "\n",
    "\n",
    "def plot_graph(*data):\n",
    "    fig = plt.figure()\n",
    "    plt.ylabel(\"Prediction rate\")\n",
    "    plt.xlabel(\"History table size\")\n",
    "    plt.xticks([512, 1024, 2048, 4096]) \n",
    "\n",
    "    for d in data:\n",
    "        plt.scatter(*zip(*d))\n",
    "        plt.plot(*zip(*d), label=\"FFT\")\n",
    "\n",
    "    return plt.axes()"
   ]
  },
  {
   "cell_type": "code",
   "execution_count": 82,
   "metadata": {
    "collapsed": false
   },
   "outputs": [],
   "source": [
    "p = plot_graph(c_loop, c_sort)\n",
    "a = plot_graph(twobits_loop, twobits_sort)"
   ]
  },
  {
   "cell_type": "code",
   "execution_count": 84,
   "metadata": {
    "collapsed": false
   },
   "outputs": [],
   "source": []
  },
  {
   "cell_type": "code",
   "execution_count": 76,
   "metadata": {
    "collapsed": true
   },
   "outputs": [],
   "source": [
    "a.plot()\n",
    "plt.show()"
   ]
  },
  {
   "cell_type": "markdown",
   "metadata": {
    "collapsed": true
   },
   "source": [
    "# References\n",
    "- http://web.cs.ucdavis.edu/~su/Berkeley/cs252/project.html\n",
    "- https://www2.eecs.berkeley.edu/Pubs/TechRpts/1983/CSD-83-121.pdf\n",
    "- http://web.engr.oregonstate.edu/~benl/Projects/branch_pred/\n",
    "- http://www.hpl.hp.com/techreports/Compaq-DEC/WRL-TN-36.pdf\n",
    "- http://math.nist.gov/scimark2/about.html\n",
    "- https://dl.acm.org/citation.cfm?id=192727\n"
   ]
  },
  {
   "cell_type": "code",
   "execution_count": null,
   "metadata": {
    "collapsed": true
   },
   "outputs": [],
   "source": []
  }
 ],
 "metadata": {
  "kernelspec": {
   "display_name": "Python 3",
   "language": "python",
   "name": "python3"
  },
  "language_info": {
   "codemirror_mode": {
    "name": "ipython",
    "version": 3
   },
   "file_extension": ".py",
   "mimetype": "text/x-python",
   "name": "python",
   "nbconvert_exporter": "python",
   "pygments_lexer": "ipython3",
   "version": "3.5.4"
  }
 },
 "nbformat": 4,
 "nbformat_minor": 1
}
