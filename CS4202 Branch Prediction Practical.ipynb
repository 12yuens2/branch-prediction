{
 "cells": [
  {
   "cell_type": "markdown",
   "metadata": {},
   "source": [
    "# Introduction\n",
    "In this practical, a branch predictor simulator was written which simulates different branching strategies to get their misprediction rates. Then, the results were analysed and presented. The following branch prediction strategies were simulated and analysed:\n",
    "- Always taken\n",
    "- Always not taken\n",
    "- 2-bit predictor\n",
    "- correlating predictor\n",
    "- gshare\n",
    "- profiled approach\n",
    "\n",
    "## Profiled approach\n",
    "The profile approach is a strategy that uses a previously run \"profile\" of the code for its prediction. Details of the profile approach used will be explained [later](#profiled_approach) in the report.\n",
    "\n",
    "# Design\n",
    "\n",
    "## Basic classes\n",
    "First, let us define some useful classes that we will use in our simulator."
   ]
  },
  {
   "cell_type": "code",
   "execution_count": 3,
   "metadata": {
    "collapsed": true
   },
   "outputs": [],
   "source": [
    "from enum import Enum\n",
    "\n",
    "class Branch(Enum):\n",
    "    NOT_TAKEN = 0\n",
    "    TAKEN = 1"
   ]
  },
  {
   "cell_type": "markdown",
   "metadata": {},
   "source": [
    "This `Branch` enum represents whether the branch was taken or not. An enum is used instead of 0 and 1 to make it clear and avoid mistakes and errors.\n",
    "\n",
    "Now we create a class to represent each step of the execution:"
   ]
  },
  {
   "cell_type": "code",
   "execution_count": 4,
   "metadata": {
    "collapsed": true
   },
   "outputs": [],
   "source": [
    "class Step:\n",
    "    def __init__(self, address, branch):\n",
    "        self.address = address\n",
    "        self.branch = branch"
   ]
  },
  {
   "cell_type": "markdown",
   "metadata": {
    "collapsed": true
   },
   "source": [
    "`Step` contains the address of the instruction as well as whether or not that branch was taken - stored in `self.branch` - for each step of the execution. This is the class that the output of the `pin` tool will parse into.\n",
    "\n",
    "Now let's define an abstract `Predictor` that all our prediction strategy implementations will extend from.\n",
    "\n"
   ]
  },
  {
   "cell_type": "code",
   "execution_count": 5,
   "metadata": {
    "collapsed": true
   },
   "outputs": [],
   "source": [
    "from abc import ABC, abstractmethod\n",
    "\n",
    "class Predictor(ABC):\n",
    "    def __init__(self):\n",
    "        pass\n",
    "    \n",
    "    @abstractmethod\n",
    "    def predict_correct(self, step):\n",
    "        pass\n",
    "    \n",
    "    def simulate(self, execution):\n",
    "        correct_prediction_count = 0\n",
    "\n",
    "        for step in execution:\n",
    "            if self.predict_correct(step):\n",
    "                correct_prediction_count += 1\n",
    "\n",
    "        return correct_prediction_count / len(execution) * 100"
   ]
  },
  {
   "cell_type": "markdown",
   "metadata": {},
   "source": [
    "The `predict_correct` function will take a step in the execution and return whether or not the predictor predicted correctly. The function should also update the predictor's strategy accordingly, for example changing the bits in the two bit predictor\n",
    "\n",
    "`simulate` will take the entire execution trace and return the percentage of correct branches that the predictor predicted.\n",
    "\n",
    "Now that we have all the basic classes set up, we can start implementing the two simplest branch prediction strategies.\n",
    "\n",
    "## Always taken and Always not taken\n",
    "\n",
    "Always taken and always not taken are very easy to implement because they do not use any smart logic. They simply always take or not take the branch."
   ]
  },
  {
   "cell_type": "code",
   "execution_count": 11,
   "metadata": {
    "collapsed": true
   },
   "outputs": [],
   "source": [
    "class AlwaysTakenPredictor(Predictor):\n",
    "    def __init__(self):\n",
    "        self.prediction = Branch.TAKEN\n",
    "        \n",
    "    def predict_correct(self, step):\n",
    "        return self.prediction == step.branch"
   ]
  },
  {
   "cell_type": "code",
   "execution_count": 12,
   "metadata": {
    "collapsed": true
   },
   "outputs": [],
   "source": [
    "class AlwaysNotTakenPredictor(Predictor):\n",
    "    def __init__(self):\n",
    "        self.prediction = Branch.NOT_TAKEN\n",
    "        \n",
    "    def predict_correct(self, step):\n",
    "        return self.prediction == step.branch"
   ]
  },
  {
   "cell_type": "markdown",
   "metadata": {},
   "source": [
    "Both strategies do not require any update logic as they always return the same prediction. Their prediction is set when they are initialised.\n",
    "\n",
    "## Two-bit predictor\n",
    "\n",
    "The two-bit predictor uses two bits as history bits. The prediction is based off the history bits and they are updated on every step."
   ]
  },
  {
   "cell_type": "markdown",
   "metadata": {},
   "source": [
    "![Two-bit predictor](imgs/TwoBitPredictor.jpg)"
   ]
  },
  {
   "cell_type": "markdown",
   "metadata": {},
   "source": [
    "The two-bit predictor is a bit more complicated than the trivial predictors before as we now have to include a branch history table for addresses to index into."
   ]
  },
  {
   "cell_type": "code",
   "execution_count": 14,
   "metadata": {
    "collapsed": true
   },
   "outputs": [],
   "source": [
    "class TwoBitCounter():\n",
    "    def __init__(self):\n",
    "        self.prediction = Branch.NOT_TAKEN\n",
    "        self.history_bits = (0, 0)\n",
    "        \n",
    "    def update(self, prediction_correct):\n",
    "        self.update_bits(prediction_correct)\n",
    "        \n",
    "        if self.history_bits[0]:\n",
    "            self.prediction = Branch.TAKEN\n",
    "        else:\n",
    "            self.prediction = Branch.NOT_TAKEN\n",
    "            \n",
    "    def update_bits(self, prediction_correct):\n",
    "        prediction_value = self.prediction.value\n",
    "        \n",
    "        if (prediction_correct):\n",
    "            self.history_bits = (prediction_value, prediction_value)\n",
    "        else:\n",
    "            last_bit = self.history_bits[1]\n",
    "            self.history_bits = (last_bit, int(not prediction_value))"
   ]
  },
  {
   "cell_type": "code",
   "execution_count": 21,
   "metadata": {
    "collapsed": true
   },
   "outputs": [],
   "source": [
    "class TwoBitPredictor(Predictor):\n",
    "    def __init__(self, tablesize):\n",
    "        # Create a TwoBitCounter for each entry in the table\n",
    "        counters = enumerate([TwoBitCounter() for i in range(tablesize)])\n",
    "        self.table = {address: counter for (address, counter) in counters}\n",
    "        \n",
    "    def predict_correct(self, step):\n",
    "        counter = self.table[step.address]\n",
    "        prediction = counter.prediction\n",
    "        \n",
    "        prediction_correct = prediction == step.branch\n",
    "        counter.update(prediction_correct)\n",
    "        \n",
    "        return prediction_correct"
   ]
  },
  {
   "cell_type": "markdown",
   "metadata": {},
   "source": [
    "`TwoBitCounter` is the saturating counter that keeps track of the history of the branch. The `TwoBitPredictor` fetches the corresponding counter from its predictor table for its prediction and then updates the counter afterwards."
   ]
  },
  {
   "cell_type": "markdown",
   "metadata": {},
   "source": [
    "## Correlating predictor\n",
    "\n",
    "The correlating predictor lets us have multiple two-bit counters per branch. A shift register will tell the predictor which counter to choose for each branch."
   ]
  },
  {
   "cell_type": "code",
   "execution_count": 54,
   "metadata": {
    "collapsed": false
   },
   "outputs": [],
   "source": [
    "class CorrelatingCounter():\n",
    "    def __init__(self, register_bits):\n",
    "        self.two_bit_counters = [TwoBitCounter() for i in range(2 ** register_bits)]\n",
    "\n",
    "    def prediction(self, shift_register):\n",
    "        counter = self.two_bit_counters[shift_register]\n",
    "        return counter.prediction\n",
    "    \n",
    "    def update(self, prediction_correct, shift_register):\n",
    "        counter = self.two_bit_counters[shift_register]\n",
    "        counter.update(prediction_correct)"
   ]
  },
  {
   "cell_type": "markdown",
   "metadata": {},
   "source": [
    "The `CorrelatingCounter` must have 2<sup>n</sup> `TwoBitCounter`s where n is the number of bits in the shift register. To get a prediction, the shift register must be passed so we can fetch the corresponding two-bit counter in the list. "
   ]
  },
  {
   "cell_type": "code",
   "execution_count": 53,
   "metadata": {
    "collapsed": false
   },
   "outputs": [],
   "source": [
    "class CorrelatingPredictor(Predictor):\n",
    "    def __init__(self, tablesize, register_bits):\n",
    "        \n",
    "        # Create a CorrelatingCounter for each entry in the table\n",
    "        inner_predictors = enumerate([CorrelatingCounter(register_bits) for i in range(tablesize)])\n",
    "        self.table = {address: ip for (address, ip) in inner_predictors}\n",
    "        \n",
    "        # Initialise shift register\n",
    "        self.shift_register = 0b0\n",
    "        self.register_bits = register_bits\n",
    "    \n",
    "    def predict_correct(self, step):\n",
    "        inner_predictor = self.table[step.address]\n",
    "        prediction = inner_predictor.prediction(self.shift_register)\n",
    "        \n",
    "        prediction_correct = prediction == step.branch\n",
    "        inner_predictor.update(prediction_correct, self.shift_register)\n",
    "        \n",
    "        self.update_register(step.branch == Branch.TAKEN)\n",
    "        \n",
    "        return prediction_correct\n",
    "        \n",
    "    def update_register(self, branch_taken):\n",
    "        self.shift_register = self.shift_register >> 1\n",
    "        \n",
    "        if (branch_taken):\n",
    "            self.shift_register |= 1 << (self.register_bits - 1)"
   ]
  },
  {
   "cell_type": "markdown",
   "metadata": {},
   "source": [
    "Getting a prediction from the `CorrelatingPredictor` is similar to the `TwoBitPredictor` as the counters take care of the rest of the logic. The only difference is the need to pass in the shift register and having to update the shift register after every step.\n",
    "\n",
    "The shift register is updated by bit shifting 1 to the right after every step. Then, if the branch was taken, add a 1 to the n<sup>th</sup> bit. We don't have to do anything if the branch is not taken as it is the same as adding a 0.\n",
    "\n",
    "## Gshare\n",
    "\n",
    "The Gshare predictor indexes by XORing the address and the shift register to index into the predictor table. For a simple Gshare implementation using two bit counters, we can reuse the `TwoBitCounter` class for its table."
   ]
  },
  {
   "cell_type": "code",
   "execution_count": 57,
   "metadata": {
    "collapsed": false
   },
   "outputs": [],
   "source": [
    "class GsharePredictor(Predictor):\n",
    "    def __init__(self, tablesize, register_bits):\n",
    "        \n",
    "        # Create a TwoBitCounter for each entry in the table\n",
    "        counters = enumerate([TwoBitCounter() for i in range(tablesize)])\n",
    "        self.table = {address: counter for (address, counter) in counters}\n",
    "        \n",
    "        # Initialise shift register\n",
    "        self.shift_register = 0b0\n",
    "        self.register_bits = register_bits\n",
    "        \n",
    "    def predict_correct(self, step):\n",
    "        counter = self.get_inner_predictor(step.address)\n",
    "        prediction = counter.prediction\n",
    "        \n",
    "        prediction_correct = prediction == step.branch\n",
    "        counter.update(prediction_correct)\n",
    "        \n",
    "        self.update_register(step.branch == Branch.TAKEN)\n",
    "        \n",
    "        return prediction_correct\n",
    "    \n",
    "    def get_inner_predictor(self, address):\n",
    "        index = address ^ self.register_bits\n",
    "        return self.table[index]\n",
    "        \n",
    "    def update_register(self, branch_taken):\n",
    "        self.shift_register = self.shift_register >> 1\n",
    "\n",
    "        if (branch_taken):\n",
    "            self.shift_register |= 1 << (self.register_bits - 1)"
   ]
  },
  {
   "cell_type": "code",
   "execution_count": null,
   "metadata": {
    "collapsed": true
   },
   "outputs": [],
   "source": []
  },
  {
   "cell_type": "code",
   "execution_count": null,
   "metadata": {
    "collapsed": true
   },
   "outputs": [],
   "source": []
  },
  {
   "cell_type": "markdown",
   "metadata": {},
   "source": [
    "## Profiled approach <a id='profiled_approach'></a>"
   ]
  },
  {
   "cell_type": "code",
   "execution_count": null,
   "metadata": {
    "collapsed": true
   },
   "outputs": [],
   "source": []
  },
  {
   "cell_type": "code",
   "execution_count": null,
   "metadata": {
    "collapsed": true
   },
   "outputs": [],
   "source": []
  },
  {
   "cell_type": "markdown",
   "metadata": {},
   "source": [
    "# Experiments"
   ]
  },
  {
   "cell_type": "code",
   "execution_count": null,
   "metadata": {
    "collapsed": true
   },
   "outputs": [],
   "source": []
  }
 ],
 "metadata": {
  "kernelspec": {
   "display_name": "Python 3",
   "language": "python",
   "name": "python3"
  },
  "language_info": {
   "codemirror_mode": {
    "name": "ipython",
    "version": 3
   },
   "file_extension": ".py",
   "mimetype": "text/x-python",
   "name": "python",
   "nbconvert_exporter": "python",
   "pygments_lexer": "ipython3",
   "version": "3.5.4"
  }
 },
 "nbformat": 4,
 "nbformat_minor": 1
}
