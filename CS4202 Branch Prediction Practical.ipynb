{
 "cells": [
  {
   "cell_type": "markdown",
   "metadata": {},
   "source": [
    "# Introduction\n",
    "In this practical, a branch predictor simulator was written which simulates different branching strategies to get their misprediction rates. Then, the results were analysed and presented. The following branch prediction strategies were simulated and analysed:\n",
    "- Always taken\n",
    "- Always not taken\n",
    "- 2-bit predictor\n",
    "- correlating predictor\n",
    "- gshare\n",
    "- profiled approach\n",
    "\n",
    "## Profiled approach\n",
    "The profile approach is a strategy that uses a previously run \"profile\" of the code for its prediction. Details of the profile approach used will be explained [later](#profiled_approach) in the report.\n",
    "\n",
    "# Design\n",
    "\n",
    "## Basic classes\n",
    "First, let us define some useful classes that we will use in our simulator."
   ]
  },
  {
   "cell_type": "code",
   "execution_count": 3,
   "metadata": {
    "collapsed": true
   },
   "outputs": [],
   "source": [
    "from enum import Enum\n",
    "\n",
    "class Branch(Enum):\n",
    "    NOT_TAKEN = 0\n",
    "    TAKEN = 1"
   ]
  },
  {
   "cell_type": "markdown",
   "metadata": {},
   "source": [
    "This `Branch` enum represents whether the branch was taken or not. An enum is used instead of 0 and 1 to make it clear and avoid mistakes and errors.\n",
    "\n",
    "Now we create a class to represent each step of the execution:"
   ]
  },
  {
   "cell_type": "code",
   "execution_count": 4,
   "metadata": {
    "collapsed": true
   },
   "outputs": [],
   "source": [
    "class Step:\n",
    "    def __init__(self, address, branch):\n",
    "        self.address = address\n",
    "        self.branch = branch"
   ]
  },
  {
   "cell_type": "markdown",
   "metadata": {
    "collapsed": true
   },
   "source": [
    "`Step` contains the address of the instruction as well as whether or not that branch was taken - stored in `self.branch` - for each step of the execution. This is the class that the output of the `pin` tool will parse into.\n",
    "\n",
    "Now let's define an abstract `Predictor` that all our prediction strategy implementations will extend from.\n",
    "\n"
   ]
  },
  {
   "cell_type": "code",
   "execution_count": 5,
   "metadata": {
    "collapsed": true
   },
   "outputs": [],
   "source": [
    "from abc import ABC, abstractmethod\n",
    "\n",
    "class Predictor(ABC):\n",
    "    def __init__(self):\n",
    "        pass\n",
    "    \n",
    "    @abstractmethod\n",
    "    def predict_correct(self, step):\n",
    "        pass\n",
    "    \n",
    "    def simulate(self, execution):\n",
    "        correct_prediction_count = 0\n",
    "\n",
    "        for step in execution:\n",
    "            if self.predict_correct(step):\n",
    "                correct_prediction_count += 1\n",
    "\n",
    "        return correct_prediction_count / len(execution) * 100"
   ]
  },
  {
   "cell_type": "markdown",
   "metadata": {},
   "source": [
    "The `predict_correct` function will take a step in the execution and return whether or not the predictor predicted correctly. The function should also update the predictor's strategy accordingly, for example changing the bits in the two bit predictor\n",
    "\n",
    "`simulate` will take the entire execution trace and return the percentage of correct branches that the predictor predicted.\n",
    "\n",
    "Now that we have all the basic classes set up, we can start implementing the two simplest branch prediction strategies.\n",
    "\n",
    "## Always taken and Always not taken\n",
    "\n",
    "Always taken and always not taken are very easy to implement because they do not use any smart logic. They simply always take or not take the branch."
   ]
  },
  {
   "cell_type": "code",
   "execution_count": 11,
   "metadata": {
    "collapsed": true
   },
   "outputs": [],
   "source": [
    "class AlwaysTakenPredictor(Predictor):\n",
    "    def __init__(self):\n",
    "        self.prediction = Branch.TAKEN\n",
    "        \n",
    "    def predict_correct(self, step):\n",
    "        return self.prediction == step.branch"
   ]
  },
  {
   "cell_type": "code",
   "execution_count": 12,
   "metadata": {
    "collapsed": true
   },
   "outputs": [],
   "source": [
    "class AlwaysNotTakenPredictor(Predictor):\n",
    "    def __init__(self):\n",
    "        self.prediction = Branch.NOT_TAKEN\n",
    "        \n",
    "    def predict_correct(self, step):\n",
    "        return self.prediction == step.branch"
   ]
  },
  {
   "cell_type": "markdown",
   "metadata": {},
   "source": [
    "Both strategies do not require any update logic as they always return the same prediction. Their prediction is set when they are initialised.\n",
    "\n",
    "## Two-bit predictor\n",
    "\n",
    "The two-bit predictor uses two bits as history bits. The prediction is based off the history bits and they are updated on every step."
   ]
  },
  {
   "cell_type": "markdown",
   "metadata": {},
   "source": [
    "![Two-bit predictor](imgs/TwoBitPredictor.jpg)"
   ]
  },
  {
   "cell_type": "markdown",
   "metadata": {},
   "source": [
    "The two-bit predictor is a bit more complicated than the trivial predictors before as we now have to include a branch history table for addresses to index into."
   ]
  },
  {
   "cell_type": "code",
   "execution_count": 14,
   "metadata": {
    "collapsed": true
   },
   "outputs": [],
   "source": [
    "class TwoBitCounter():\n",
    "    def __init__(self):\n",
    "        self.prediction = Branch.NOT_TAKEN\n",
    "        self.history_bits = (0, 0)\n",
    "        \n",
    "    def update(self, prediction_correct):\n",
    "        self.update_bits(prediction_correct)\n",
    "        \n",
    "        if self.history_bits[0]:\n",
    "            self.prediction = Branch.TAKEN\n",
    "        else:\n",
    "            self.prediction = Branch.NOT_TAKEN\n",
    "            \n",
    "    def update_bits(self, prediction_correct):\n",
    "        prediction_value = self.prediction.value\n",
    "        \n",
    "        if (prediction_correct):\n",
    "            self.history_bits = (prediction_value, prediction_value)\n",
    "        else:\n",
    "            last_bit = self.history_bits[1]\n",
    "            self.history_bits = (last_bit, int(not prediction_value))"
   ]
  },
  {
   "cell_type": "code",
   "execution_count": 15,
   "metadata": {
    "collapsed": true
   },
   "outputs": [],
   "source": [
    "class TwoBitPredictor(Predictor):\n",
    "    def __init__(self, tablesize):\n",
    "        # Create a TwoBitCounter for each entry in the table\n",
    "        counters = enumerate([TwoBitCounter() for i in range(tablesize)])\n",
    "        self.table = {address: counter for (address, counter) in counters}\n",
    "        \n",
    "    def predict_correct(self, step):\n",
    "        counter = self.table[step.address]\n",
    "        prediction = counter.prediction\n",
    "        \n",
    "        prediction_correct = prediction == step.branch\n",
    "        counter.update(prediction_correct)\n",
    "        \n",
    "        return prediction_correct"
   ]
  },
  {
   "cell_type": "markdown",
   "metadata": {},
   "source": [
    "`TwoBitCounter` is the saturating counter that keeps track of the history of the branch. The `TwoBitPredictor` fetches the corresponding counter from its predictor table for its prediction and then updates the counter afterwards."
   ]
  },
  {
   "cell_type": "markdown",
   "metadata": {},
   "source": [
    "## Correlating predictor\n",
    "\n",
    "The correlating predictor lets us have multiple two-bit counters per branch. A shift register will tell the predictor which counter to choose for each branch."
   ]
  },
  {
   "cell_type": "code",
   "execution_count": 20,
   "metadata": {
    "collapsed": false
   },
   "outputs": [],
   "source": [
    "class CorrelatingPredictor(Predictor):\n",
    "    def __init__(self, tablesize, register_bits):\n",
    "        self.register_bits = register_bits\n",
    "        self.shift_register = 0b0\n",
    "    \n",
    "    def predict_correct(self, step):\n",
    "        inner_predictor = self.table[step.address]\n",
    "        prediction = inner_predictor.prediction(self.shift_register)\n",
    "        \n",
    "        prediction_correct = prediction == step.branch\n",
    "        inner_predictor.update(prediction_correct)\n",
    "        \n",
    "        update_register(step.branch)\n",
    "        \n",
    "    def update_register(self, branch_taken):\n",
    "        self.shift_register = self.shift_register >> 1\n",
    "        \n",
    "        if (branch_taken):\n",
    "            self.shift_register |= 1 << register_bits\n",
    "    \n"
   ]
  },
  {
   "cell_type": "code",
   "execution_count": null,
   "metadata": {
    "collapsed": true
   },
   "outputs": [],
   "source": []
  },
  {
   "cell_type": "code",
   "execution_count": null,
   "metadata": {
    "collapsed": true
   },
   "outputs": [],
   "source": []
  },
  {
   "cell_type": "code",
   "execution_count": null,
   "metadata": {
    "collapsed": true
   },
   "outputs": [],
   "source": []
  },
  {
   "cell_type": "code",
   "execution_count": null,
   "metadata": {
    "collapsed": true
   },
   "outputs": [],
   "source": []
  },
  {
   "cell_type": "code",
   "execution_count": null,
   "metadata": {
    "collapsed": true
   },
   "outputs": [],
   "source": []
  },
  {
   "cell_type": "markdown",
   "metadata": {},
   "source": [
    "Now we add an abstract class for branch prediction strategies that the actual strategy implementations will use. This just ensures that all implemented strategies later always have a default prediction and `update` function. A `Strategy` is the basic saturation counter that the branch history table points to."
   ]
  },
  {
   "cell_type": "code",
   "execution_count": 3,
   "metadata": {
    "collapsed": true
   },
   "outputs": [],
   "source": [
    "from abc import ABC, abstractmethod\n",
    "\n",
    "class Strategy(ABC):\n",
    "    def __init__(self):\n",
    "        self.prediction = Branch.NOT_TAKEN\n",
    "    \n",
    "    @abstractmethod\n",
    "    def update(self, prediction_correct):\n",
    "        pass"
   ]
  },
  {
   "cell_type": "markdown",
   "metadata": {},
   "source": [
    "The default prediction is `NOT_TAKEN` and we define an abstract method `update` that all strategy implementations must have. The `update` method is where the strategy updates its own calculations and prediction based whether the previous prediction was correct or not.\n",
    "\n",
    "Finally we have the `Predictor` which takes any strategy and steps of execution and runs the strategy over those executions. The predictor contains the branch history table of `tablesize` which it indexes with each step's address."
   ]
  },
  {
   "cell_type": "code",
   "execution_count": 4,
   "metadata": {
    "collapsed": true
   },
   "outputs": [],
   "source": [
    "strategy_module = __import__(__name__)\n",
    "\n",
    "class Predictor:\n",
    "    def __init__(self, strategy, execution, tablesize):\n",
    "        self.strategy = get_attr(strategy_module, strategy)\n",
    "        self.execution = execution\n",
    "        \n",
    "        # Initialise predictor's branch history table\n",
    "        predictors = enumerate([self.strategy() for i in range(tablesize)])\n",
    "        self.table = {address: predictor for (address, preditor) in predictors}\n",
    "    \n",
    "    def predict(self, step):\n",
    "        predictor = self.table[step.address]\n",
    "        prediction = predictor.prediction\n",
    "        \n",
    "        prediction_correct = step.branch == prediction\n",
    "        predictor.update(prediction_correct)\n",
    "        \n",
    "        return prediction_correct\n",
    "    \n",
    "    def simulate(self):\n",
    "        correct_prediction_count = 0\n",
    "        \n",
    "        for step in self.execution:\n",
    "            if self.predict(step):\n",
    "                correct_prediction_count += 1\n",
    "            \n",
    "        return correct_prediction_count / len(self.execution) * 100"
   ]
  },
  {
   "cell_type": "markdown",
   "metadata": {},
   "source": [
    "This practical is focused on the results of simulating different branch prediction strategies, so the `simulate` function will run the `Predictor`'s strategy over whole execution and return the percentage of correct predictions. On each `predict` step, the prediction strategy is updated with whether or not it was correct.\n",
    "\n"
   ]
  },
  {
   "cell_type": "code",
   "execution_count": null,
   "metadata": {
    "collapsed": true
   },
   "outputs": [],
   "source": []
  },
  {
   "cell_type": "code",
   "execution_count": 5,
   "metadata": {
    "collapsed": true
   },
   "outputs": [],
   "source": [
    "class AlwaysTaken(Strategy):\n",
    "    def __init__(self):\n",
    "        self.prediction = Branch.TAKEN\n",
    "        \n",
    "    def update(self, _):\n",
    "        pass\n",
    "\n",
    "\n",
    "class AlwaysNotTaken(Strategy):\n",
    "    \n",
    "    def update(self, _):\n",
    "        pass"
   ]
  },
  {
   "cell_type": "markdown",
   "metadata": {},
   "source": [
    "Both strategies do not require any update logic as they always return the same prediction. In `AlwaysTaken`, the prediction is set to be `TAKEN`. We don't have to do this for `AlwaysNotTaken` as all strategies default to `NOT_TAKEN`. Although these two strategies do not require the use of a branch history table, the table is still created in the predictor for code reuse. \n",
    "\n",
    "## Two-bit predictor\n",
    "\n",
    "The two-bit predictor uses two bits as history bits. The prediction is based off the history bits and they are updated on every step."
   ]
  },
  {
   "cell_type": "code",
   "execution_count": 7,
   "metadata": {
    "collapsed": true
   },
   "outputs": [],
   "source": [
    "\n",
    "            "
   ]
  },
  {
   "cell_type": "markdown",
   "metadata": {
    "collapsed": true
   },
   "source": [
    "## Correlating predictor"
   ]
  },
  {
   "cell_type": "code",
   "execution_count": null,
   "metadata": {
    "collapsed": true
   },
   "outputs": [],
   "source": []
  },
  {
   "cell_type": "markdown",
   "metadata": {},
   "source": [
    "## Profiled approach <a id='profiled_approach'></a>"
   ]
  },
  {
   "cell_type": "code",
   "execution_count": null,
   "metadata": {
    "collapsed": true
   },
   "outputs": [],
   "source": []
  },
  {
   "cell_type": "code",
   "execution_count": null,
   "metadata": {
    "collapsed": true
   },
   "outputs": [],
   "source": []
  },
  {
   "cell_type": "markdown",
   "metadata": {},
   "source": [
    "# Experiments"
   ]
  },
  {
   "cell_type": "code",
   "execution_count": null,
   "metadata": {
    "collapsed": true
   },
   "outputs": [],
   "source": []
  }
 ],
 "metadata": {
  "kernelspec": {
   "display_name": "Python 3",
   "language": "python",
   "name": "python3"
  },
  "language_info": {
   "codemirror_mode": {
    "name": "ipython",
    "version": 3
   },
   "file_extension": ".py",
   "mimetype": "text/x-python",
   "name": "python",
   "nbconvert_exporter": "python",
   "pygments_lexer": "ipython3",
   "version": "3.5.4"
  }
 },
 "nbformat": 4,
 "nbformat_minor": 1
}
