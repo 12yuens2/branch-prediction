{
 "cells": [
  {
   "cell_type": "markdown",
   "metadata": {},
   "source": [
    "# Introduction\n",
    "In this practical, a branch predictor simulator was written which simulates different branching strategies to get their misprediction rates. Then, the results were analysed and presented. The following branch prediction strategies were simulated and analysed:\n",
    "- Always taken\n",
    "- Always not taken\n",
    "- 2-bit predictor\n",
    "- correlating predictor\n",
    "- gshare\n",
    "- profiled approach\n",
    "\n",
    "## Profiled approach\n",
    "The profile approach is a strategy that uses a previously run \"profile\" of the code for its prediction. Details of the profile approach used will be explained [later](#profiled_approach) in the report."
   ]
  },
  {
   "cell_type": "markdown",
   "metadata": {
    "collapsed": true
   },
   "source": [
    "# Design\n",
    "\n",
    "## Basic classes\n",
    "First, let us define some useful classes that we will use in our simulator."
   ]
  },
  {
   "cell_type": "code",
   "execution_count": 1,
   "metadata": {
    "collapsed": true
   },
   "outputs": [],
   "source": [
    "from enum import Enum\n",
    "\n",
    "class Branch(Enum):\n",
    "    NOT_TAKEN = 0\n",
    "    TAKEN = 1"
   ]
  },
  {
   "cell_type": "markdown",
   "metadata": {},
   "source": [
    "This `Branch` enum represents whether the branch was taken or not. An enum is used instead of 0 and 1 to make it clear and avoid mistakes and errors.\n",
    "\n",
    "Now we create a class to represent each step of the execution:"
   ]
  },
  {
   "cell_type": "code",
   "execution_count": 2,
   "metadata": {
    "collapsed": true
   },
   "outputs": [],
   "source": [
    "class Step:\n",
    "    def __init__(self, address, branch):\n",
    "        self.address = address\n",
    "        self.branch = branch"
   ]
  },
  {
   "cell_type": "markdown",
   "metadata": {
    "collapsed": true
   },
   "source": [
    "`Step` contains the address of the instruction as well as whether or not that branch was taken - stored in `self.branch` - for each step of the execution. This is the class that the output of the `pin` tool will parse into.\n",
    "\n",
    "Now we add an abstract class for branch prediction strategies that the actual strategy implementations will use. This just ensures that all implemented strategies later always have a default prediction and `update` function. A `Strategy` is the basic saturation counter that the branch history table points to."
   ]
  },
  {
   "cell_type": "code",
   "execution_count": 3,
   "metadata": {
    "collapsed": true
   },
   "outputs": [],
   "source": [
    "from abc import ABC, abstractmethod\n",
    "\n",
    "class Strategy(ABC):\n",
    "    def __init__(self):\n",
    "        self.prediction = Branch.NOT_TAKEN\n",
    "    \n",
    "    @abstractmethod\n",
    "    def update(self, prediction_correct):\n",
    "        pass"
   ]
  },
  {
   "cell_type": "markdown",
   "metadata": {},
   "source": [
    "The default prediction is `NOT_TAKEN` and we define an abstract method `update` that all strategy implementations must have. The `update` method is where the strategy updates its own calculations and prediction based whether the previous prediction was correct or not.\n",
    "\n",
    "Finally we have the `Predictor` which takes any strategy and steps of execution and runs the strategy over those executions. "
   ]
  },
  {
   "cell_type": "code",
   "execution_count": 4,
   "metadata": {
    "collapsed": true
   },
   "outputs": [],
   "source": [
    "class Predictor:\n",
    "    def __init__(self, strategy, execution):\n",
    "        self.strategy = strategy\n",
    "        self.execution = execution\n",
    "        \n",
    "    def predict(self, step):\n",
    "        prediction = self.strategy.prediction\n",
    "        \n",
    "        prediction_correct = step.branch == prediction\n",
    "        self.strategy.update(prediction_correct)\n",
    "        \n",
    "        return prediction_correct\n",
    "    \n",
    "    def simulate(self):\n",
    "        correct_prediction_count = 0\n",
    "        \n",
    "        for step in self.execution:\n",
    "            if self.predict(step):\n",
    "                correct_prediction_count += 1\n",
    "            \n",
    "        return correct_prediction_count / len(self.execution) * 100"
   ]
  },
  {
   "cell_type": "markdown",
   "metadata": {},
   "source": [
    "This practical is focused on the results of simulating different branch prediction strategies, so the `simulate` function will run the `Predictor`'s strategy over whole execution and return the percentage of correct predictions. On each `predict` step, the prediction strategy is updated with whether or not it was correct.\n",
    "\n",
    "Now that we have all the basic classes set up, we can start implementing the two simplest branch prediction strategies."
   ]
  },
  {
   "cell_type": "markdown",
   "metadata": {},
   "source": [
    "## Always taken and Always not taken\n",
    "\n",
    "Always taken and always not taken are very easy to implement because they do not use any smart logic. They simply always take or not take the branch."
   ]
  },
  {
   "cell_type": "code",
   "execution_count": 5,
   "metadata": {
    "collapsed": true
   },
   "outputs": [],
   "source": [
    "class AlwaysTaken(Strategy):\n",
    "    def __init__(self):\n",
    "        self.prediction = Branch.TAKEN\n",
    "        \n",
    "    def update(self, _):\n",
    "        pass\n",
    "\n",
    "\n",
    "class AlwaysNotTaken(Strategy):\n",
    "    \n",
    "    def update(self, _):\n",
    "        pass"
   ]
  },
  {
   "cell_type": "markdown",
   "metadata": {},
   "source": [
    "Both strategies do not require any update logic as they always return the same prediction. In `AlwaysTaken`, the prediction is set to be `TAKEN`. We don't have to do this for `AlwaysNotTaken` as all strategies default to `NOT_TAKEN`."
   ]
  },
  {
   "cell_type": "markdown",
   "metadata": {},
   "source": [
    "## Two-bit predictor\n",
    "\n",
    "The two-bit predictor uses two bits as history bits. The prediction is based off the history bits and they are updated on every step."
   ]
  },
  {
   "cell_type": "code",
   "execution_count": 7,
   "metadata": {
    "collapsed": false
   },
   "outputs": [],
   "source": [
    "class TwoBitPredictor(Strategy):\n",
    "    def __init__(self):\n",
    "        super().__init__()\n",
    "        self.history_bits = (0, 0)\n",
    "        \n",
    "    def update(self, prediction_correct):\n",
    "        self.update_bits(prediction_correct)\n",
    "        \n",
    "        if self.history_bits[0]:\n",
    "            self.prediction = Branch.TAKEN\n",
    "        else:\n",
    "            self.prediction = Branch.NOT_TAKEN\n",
    "            \n",
    "    def update_bits(self, prediction_correct):\n",
    "        prediction_value = self.prediction.value\n",
    "        \n",
    "        if (prediction_correct):\n",
    "            self.history_bits = (prediction_value, prediction_value)\n",
    "        else:\n",
    "            last_bit = self.history_bits[1]\n",
    "            self.history_bits = (last_bit, int(not prediction_value))\n",
    "            "
   ]
  },
  {
   "cell_type": "code",
   "execution_count": null,
   "metadata": {
    "collapsed": true
   },
   "outputs": [],
   "source": []
  },
  {
   "cell_type": "markdown",
   "metadata": {},
   "source": [
    "## Profiled approach <a id='profiled_approach'></a>"
   ]
  },
  {
   "cell_type": "code",
   "execution_count": null,
   "metadata": {
    "collapsed": true
   },
   "outputs": [],
   "source": []
  },
  {
   "cell_type": "code",
   "execution_count": null,
   "metadata": {
    "collapsed": true
   },
   "outputs": [],
   "source": []
  }
 ],
 "metadata": {
  "kernelspec": {
   "display_name": "Python 2",
   "language": "python",
   "name": "python2"
  },
  "language_info": {
   "codemirror_mode": {
    "name": "ipython",
    "version": 2
   },
   "file_extension": ".py",
   "mimetype": "text/x-python",
   "name": "python",
   "nbconvert_exporter": "python",
   "pygments_lexer": "ipython2",
   "version": "2.7.13"
  }
 },
 "nbformat": 4,
 "nbformat_minor": 0
}
